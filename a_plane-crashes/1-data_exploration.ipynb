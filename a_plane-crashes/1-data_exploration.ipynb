{
 "cells": [
  {
   "cell_type": "markdown",
   "id": "da0e145e",
   "metadata": {},
   "source": [
    "# How US airlines were affected by World Trade Center attack\n",
    "\n",
    "On September 11th, 2001, terrorists hijacked two Boeing 767 airplanes and carried out a suicide attack. These planes crashed into the World Trade Center twin towers in New York City, killing almost 3000 people and causing both buildings to collapse. We will explore what impact this tragedy had on US airlines.\n",
    "\n",
    "We are using data from https://dataverse.harvard.edu/dataset.xhtml?persistentId=doi:10.7910/DVN/HG7NV7 focusing on flights from August to November, 2001 and airports data."
   ]
  },
  {
   "cell_type": "code",
   "execution_count": 11,
   "id": "4eadd6f0",
   "metadata": {},
   "outputs": [],
   "source": [
    "library(dplyr)\n",
    "library(ggplot2)\n",
    "library(lubridate)"
   ]
  },
  {
   "cell_type": "code",
   "execution_count": null,
   "id": "9fb5dbff",
   "metadata": {},
   "outputs": [],
   "source": [
    "# Loading df takes some time\n",
    "df <- read.csv(\"../2001.csv.bz2\")"
   ]
  },
  {
   "cell_type": "code",
   "execution_count": null,
   "id": "05cb581d",
   "metadata": {},
   "outputs": [],
   "source": [
    "# Filter data for analysis\n",
    "df <- select(df, c(Month, DayofMonth, DayOfWeek, Origin, Dest, Cancelled)) %>%\n",
    "    filter(Month %in% 8:11)"
   ]
  },
  {
   "cell_type": "code",
   "execution_count": null,
   "id": "d4a3e163",
   "metadata": {},
   "outputs": [],
   "source": [
    "# Prepare frame with data: number of flights and number of cancelled flights\n",
    "flight_counts <- mutate(df, Date=make_date(year=2001, month=df$Month, day=df$DayofMonth)) %>%\n",
    "    group_by(Date, DayOfWeek) %>%\n",
    "    summarise(FlightsNumber=n(), CancelledFlightsNumber=sum(Cancelled))"
   ]
  },
  {
   "cell_type": "code",
   "execution_count": null,
   "id": "0339c47a",
   "metadata": {},
   "outputs": [],
   "source": [
    "# Prepare variables to make later plots code easier to read\n",
    "wtc_attack_date <- make_date(year=2001, month=9, day=11)\n",
    "wtc_attack_date_flights_number <- as.numeric(flight_counts[flight_counts$Date==wtc_attack_date, \"FlightsNumber\"])\n",
    "days <- c(\"Mon\", \"Tue\", \"Wen\", \"Thu\", \"Fri\", \"Sat\", \"Sun\")"
   ]
  },
  {
   "cell_type": "markdown",
   "id": "acdd42cd",
   "metadata": {},
   "source": [
    "## The number of flights in the considered period, broken down by days of week\n",
    "\n",
    "Below is a plot which ilustrates how many flights should take place on particular day (including flights that took place and cancelled) "
   ]
  },
  {
   "cell_type": "code",
   "execution_count": null,
   "id": "f59009dd",
   "metadata": {},
   "outputs": [],
   "source": [
    "ggplot(flight_counts, aes(x=Date, y=FlightsNumber, color=as.factor(DayOfWeek))) +\n",
    "    geom_line(color=\"darkgray\") +\n",
    "    geom_point() +\n",
    "    geom_segment(\n",
    "        aes(x=wtc_attack_date+5, y=wtc_attack_date_flights_number+300, \n",
    "            xend=wtc_attack_date, yend=wtc_attack_date_flights_number), \n",
    "        arrow=arrow(length=unit(0.2, 'cm')), color=\"red\") +\n",
    "    annotate(\"text\", x=wtc_attack_date+7, y=wtc_attack_date_flights_number+400, label=\"11th September\") +\n",
    "    labs(title=\"Number of flights per day, Aug to Nov 2001\",x=\"Date\", y=\"Flights number\") +\n",
    "    theme(\n",
    "        plot.title=element_text(hjust=0.2, color=\"purple\", face=\"bold\", size=18),\n",
    "        axis.text.x=element_text(angle=-45),\n",
    "        panel.border=element_rect(colour=\"black\", fill=NA)) +\n",
    "    scale_x_date(date_breaks=\"2 week\") +\n",
    "    scale_color_discrete(name=\"Day of week\", labels=days)"
   ]
  },
  {
   "cell_type": "markdown",
   "id": "07e3127e",
   "metadata": {},
   "source": [
    "### Findings\n",
    "1. From about September 18th to October 1st number of flights dropped from over 17000 to less than 15000. It looks like it is caused by WTC. However, the reason for such a decrease is tornado's outbreak on September 24th.\n",
    "2. There is a decrease in the number of flights at the begginig of September. This is caused probably by the Labor Day in US which was on September 3rd.\n",
    "3. Second huge decrease, at the end of November, is because of the Thanksgiving Day, which was on November 22nd.\n",
    "4. We can see that number of flights on weekends is less by ~1500-500 than the number of flights on working days."
   ]
  },
  {
   "cell_type": "code",
   "execution_count": null,
   "id": "517f951d",
   "metadata": {},
   "outputs": [],
   "source": [
    "ggplot(flight_counts, \n",
    "       aes(x=Date, y=CancelledFlightsNumber, fill=flight_counts$Date==wtc_attack_date)) +\n",
    "    geom_bar(stat=\"identity\", show.legend=FALSE) +\n",
    "    labs(title=\"Number of cancelled flights per day, Aug to Nov 2001\" ,x=\"Date\", y=\"Cancelled flights\") +\n",
    "    theme(\n",
    "        plot.title=element_text(color=\"purple\", face=\"bold\", size=18), \n",
    "        axis.text.x=element_text(angle=-45),\n",
    "        panel.border=element_rect(color=\"black\", fill=NA)) +\n",
    "    scale_fill_manual(values=c(\"skyblue\", \"tomato1\")) +\n",
    "    scale_x_date(date_breaks=\"2 week\")\n"
   ]
  },
  {
   "cell_type": "markdown",
   "id": "2cf90d45",
   "metadata": {},
   "source": [
    "### Findings\n",
    "1. On the plot we can see the huge number of cancelled flights in the days after WTC attack.\n",
    "2. From September 17th for about a week there is a constant (over 2500) number of cancelled flights caused probably by the weather. Decrease in number of flights (plot 1, finding 1) caused decrease in number of cancelled flights, because when there is no flight, the flight cannot be cancelled."
   ]
  },
  {
   "cell_type": "markdown",
   "id": "b26195ce",
   "metadata": {},
   "source": [
    "#### Problem\n",
    "In the next section (2-the_wtc_attack) we will explore whether the WTC attack had a local or nationwide impact."
   ]
  }
 ],
 "metadata": {
  "kernelspec": {
   "display_name": "R",
   "language": "R",
   "name": "ir"
  },
  "language_info": {
   "codemirror_mode": "r",
   "file_extension": ".r",
   "mimetype": "text/x-r-source",
   "name": "R",
   "pygments_lexer": "r",
   "version": "4.3.0"
  }
 },
 "nbformat": 4,
 "nbformat_minor": 5
}
